{
 "cells": [
  {
   "cell_type": "markdown",
   "id": "a80f8264-1235-4516-b74f-0fbb997d21a8",
   "metadata": {},
   "source": [
    "#Part One - Scrape the list of US presidents from https://en.wikipedia.org/wiki/List_of_presidents_of_the_United_States. \n",
    "using pandas and save them as a CSV."
   ]
  },
  {
   "cell_type": "markdown",
   "id": "bb26c9f1-cef6-4fea-8bd5-26ec7c590b8e",
   "metadata": {},
   "source": [
    "Cassidy Jensen\n",
    "Homework 7"
   ]
  },
  {
   "cell_type": "code",
   "execution_count": 1,
   "id": "33cabd3e-368d-42f5-9130-1bd0a2b91994",
   "metadata": {},
   "outputs": [],
   "source": [
    "import pandas as pd"
   ]
  },
  {
   "cell_type": "code",
   "execution_count": 2,
   "id": "2794e472-ff97-4cd6-b031-a1c6ffe72264",
   "metadata": {},
   "outputs": [
    {
     "name": "stdout",
     "output_type": "stream",
     "text": [
      "Requirement already satisfied: lxml in /Users/cassidyjensen/.pyenv/versions/3.11.8/lib/python3.11/site-packages (5.4.0)\n",
      "Note: you may need to restart the kernel to use updated packages.\n"
     ]
    }
   ],
   "source": [
    "pip install lxml"
   ]
  },
  {
   "cell_type": "code",
   "execution_count": 3,
   "id": "c301caa7-ee69-47b1-9752-aa85c40c87c5",
   "metadata": {},
   "outputs": [],
   "source": [
    "tables = pd.read_html('https://en.wikipedia.org/wiki/List_of_presidents_of_the_United_States')"
   ]
  },
  {
   "cell_type": "code",
   "execution_count": 4,
   "id": "49294563-03c4-4f36-bbf9-800ffaedca8f",
   "metadata": {},
   "outputs": [],
   "source": [
    "#tables[0]"
   ]
  },
  {
   "cell_type": "code",
   "execution_count": 5,
   "id": "32886bd2-13ba-43c4-a734-05d4cb4c86a7",
   "metadata": {},
   "outputs": [],
   "source": [
    "tables[0].to_csv('presidents.csv', index = False)"
   ]
  },
  {
   "cell_type": "markdown",
   "id": "d348e4bc-99af-4ca2-966a-d0affacba6b3",
   "metadata": {},
   "source": [
    "PART TWO - Scrape the content of https://www.lemonde.fr/Links to an external site. and save it as a CSV.\n",
    "\n",
    "We want: titles, subhead, article URL, whether it's premium or not, byline, article type, image URL.\n",
    "\n",
    "You're going to be missing some article URLs - you should use try/except on them to avoid them being a problem, buuuut after that I would recommend printing the element to see why your approach isn't working (it's 100% possible to get all of the URLs!)\n",
    "If you want to make sure the element you're getting has a specific attribute, you can do something like .select_one(\"a[href]\"). That will only give you anchor tags (links) that have hrefs.\n",
    "Instead of yes/no for the premium question, you can think of it as \"put text in this column if the article is premium, don't put text in it if it is not\""
   ]
  },
  {
   "cell_type": "code",
   "execution_count": 6,
   "id": "3e26750b-d551-4868-98c0-516c00e795c0",
   "metadata": {},
   "outputs": [],
   "source": [
    "from bs4 import BeautifulSoup\n",
    "import requests\n",
    "\n",
    "response = requests.get(\"https://www.lemonde.fr/Links \")\n",
    "doc = BeautifulSoup(response.text)"
   ]
  },
  {
   "cell_type": "code",
   "execution_count": 7,
   "id": "619c933b-da89-43b0-9240-b78a2dfc9163",
   "metadata": {},
   "outputs": [],
   "source": [
    "items = doc.find_all(class_='article')"
   ]
  },
  {
   "cell_type": "code",
   "execution_count": 8,
   "id": "7588e197-7197-4981-b53a-85f8e29a1a93",
   "metadata": {
    "scrolled": true
   },
   "outputs": [],
   "source": [
    "rows = []\n",
    "for item in items:\n",
    "    row = {}\n",
    "    row['title'] = item.find(class_='article__title').text\n",
    "    try:\n",
    "        row['url'] = item.find(class_=\"article article--nav\").get('href')\n",
    "    except:\n",
    "        row['url'] = item.get('href', None)\n",
    "    try:\n",
    "        row['premium'] = item.find(class_='icon__premium').text\n",
    "    except:\n",
    "        pass\n",
    "    try:\n",
    "        row['image url'] = item.find(class_='lmd-link-clickarea__link').get('href')\n",
    "    except:\n",
    "        row['image url'] = item.get('href', None)\n",
    "    try:\n",
    "        row['subhed'] = item.find(class_=\"article__desc\").text\n",
    "    except:\n",
    "        pass\n",
    "    try:\n",
    "        row['article__type'] = item.find(class_='article__type').text\n",
    "    except: \n",
    "        pass\n",
    "    try:\n",
    "        row['article__byline'] = item.find(class_='article__type').text\n",
    "    except: \n",
    "        pass\n",
    "    rows.append(row)"
   ]
  },
  {
   "cell_type": "code",
   "execution_count": 9,
   "id": "03fc649a-e6ca-42ad-ac45-b86685b2c5a7",
   "metadata": {},
   "outputs": [],
   "source": [
    "import pandas as pd\n",
    "df = pd.json_normalize(rows)\n",
    "df.head()\n",
    "df.to_csv(\"lemonde.csv\", index=False)"
   ]
  },
  {
   "cell_type": "markdown",
   "id": "cc0417f1-0f72-4bd5-856f-0b47e3dc9d49",
   "metadata": {},
   "source": [
    "PART 3 -\n",
    "Scrape the list of third party drivers license locations from https://travel-id-documents.az.gov/authorized-third-party-driver-license-locationsLinks to an external site. but include the link. Save as a CSV. Since it's more than just the text from the table, this requires actually using BeautifulSoup :(\n",
    "\n",
    "Tips:\n",
    "\n",
    "You'll need user-agent headers for this one\n",
    "In class we always did something like item.find('h2') or the like because there was only ever one h2 we wanted. In this case there are four <td> tags that you want the text from! You'll need to use .find_all and treat them like normal lists (\"give me the text from the first one,\" + \"give me the text from the second one\" etc etc)\n",
    "It's okay to have columns you don't want or need! You can always remove them later"
   ]
  },
  {
   "cell_type": "code",
   "execution_count": 10,
   "id": "c88f632c-4ff0-4960-8abc-97321978fd4a",
   "metadata": {},
   "outputs": [],
   "source": [
    "response = requests.get(\"https://travel-id-documents.az.gov/authorized-third-party-driver-license-locations\")\n",
    "doc = BeautifulSoup(response.text)"
   ]
  },
  {
   "cell_type": "code",
   "execution_count": 11,
   "id": "9f55b384-ca58-4dc1-a9a9-640c8f0522e0",
   "metadata": {},
   "outputs": [],
   "source": [
    "table = doc.find(class_='table')\n",
    "rows = table.select('tr')"
   ]
  },
  {
   "cell_type": "code",
   "execution_count": 12,
   "id": "fcc3b9be-e0b9-4ae9-94f1-7e3643076a42",
   "metadata": {},
   "outputs": [],
   "source": [
    "data = []\n",
    "for row in rows[1:]:\n",
    "  result = []\n",
    "  if len(row.select('a')) > 0:\n",
    "    result.append(row.select('a')[0]['href'])\n",
    "  else:\n",
    "    result.append('')\n",
    "  cells = row.select('td')\n",
    "  for cell in cells:\n",
    "      result.append(cell.text.strip())\n",
    "  data.append(result)"
   ]
  },
  {
   "cell_type": "code",
   "execution_count": 16,
   "id": "cd642439-2ac6-49dc-9bfc-00c133024af3",
   "metadata": {},
   "outputs": [
    {
     "data": {
      "text/html": [
       "<div>\n",
       "<style scoped>\n",
       "    .dataframe tbody tr th:only-of-type {\n",
       "        vertical-align: middle;\n",
       "    }\n",
       "\n",
       "    .dataframe tbody tr th {\n",
       "        vertical-align: top;\n",
       "    }\n",
       "\n",
       "    .dataframe thead th {\n",
       "        text-align: right;\n",
       "    }\n",
       "</style>\n",
       "<table border=\"1\" class=\"dataframe\">\n",
       "  <thead>\n",
       "    <tr style=\"text-align: right;\">\n",
       "      <th></th>\n",
       "      <th>link</th>\n",
       "      <th>company</th>\n",
       "      <th>address</th>\n",
       "      <th>telephone</th>\n",
       "      <th>hours</th>\n",
       "    </tr>\n",
       "  </thead>\n",
       "  <tbody>\n",
       "    <tr>\n",
       "      <th>0</th>\n",
       "      <td>http://az-mvd.com/</td>\n",
       "      <td>1 Stop Title &amp; Registration Services</td>\n",
       "      <td>940 N. Alma School Rd., #104\\n\\t\\t\\tChandler, ...</td>\n",
       "      <td>480.821.3288</td>\n",
       "      <td>Mon.-Fri. 8:00 a.m.-6:00 p.m. Sat. 9:00 a.m.-4...</td>\n",
       "    </tr>\n",
       "    <tr>\n",
       "      <th>1</th>\n",
       "      <td>http://az-mvd.com/</td>\n",
       "      <td>1 Stop Title &amp; Registration Services</td>\n",
       "      <td>5036 W. Cactus Rd., Ste. 2\\n\\t\\t\\tGlendale, AZ...</td>\n",
       "      <td>602.264.2400</td>\n",
       "      <td>Mon.-Fri. 8:00 a.m.-6:00 p.m. Sat. 8:30 a.m.-4...</td>\n",
       "    </tr>\n",
       "    <tr>\n",
       "      <th>2</th>\n",
       "      <td></td>\n",
       "      <td>Academy of Driving Motor Vehicle Center</td>\n",
       "      <td>4733 E. Broadway Blvd.\\n\\t\\t\\tTucson, AZ 85711</td>\n",
       "      <td>520.750.7572</td>\n",
       "      <td>Mon.-Fri. 9 a.m.-5 p.m. and Sat. 9 a.m.-3 p.m.</td>\n",
       "    </tr>\n",
       "    <tr>\n",
       "      <th>3</th>\n",
       "      <td></td>\n",
       "      <td>Arizona Auto License</td>\n",
       "      <td>1337 W. Prince Rd\\n\\t\\t\\tTucson, AZ 85705</td>\n",
       "      <td>520.696.2023</td>\n",
       "      <td>Driver License Hours: \\n\\t\\t\\tMon.-Fri. 9 a.m....</td>\n",
       "    </tr>\n",
       "    <tr>\n",
       "      <th>4</th>\n",
       "      <td></td>\n",
       "      <td>Arizona Auto License Service LLC</td>\n",
       "      <td>1457 N. Eliseo C Felix Jr.\\n\\t\\t\\tWay, Ste. 10...</td>\n",
       "      <td>623.925.5455 or Fax 623.925.5879</td>\n",
       "      <td>Mon.-Fri. 8 a.m.-5 p.m.</td>\n",
       "    </tr>\n",
       "  </tbody>\n",
       "</table>\n",
       "</div>"
      ],
      "text/plain": [
       "                 link                                  company  \\\n",
       "0  http://az-mvd.com/     1 Stop Title & Registration Services   \n",
       "1  http://az-mvd.com/     1 Stop Title & Registration Services   \n",
       "2                      Academy of Driving Motor Vehicle Center   \n",
       "3                                         Arizona Auto License   \n",
       "4                             Arizona Auto License Service LLC   \n",
       "\n",
       "                                             address  \\\n",
       "0  940 N. Alma School Rd., #104\\n\\t\\t\\tChandler, ...   \n",
       "1  5036 W. Cactus Rd., Ste. 2\\n\\t\\t\\tGlendale, AZ...   \n",
       "2     4733 E. Broadway Blvd.\\n\\t\\t\\tTucson, AZ 85711   \n",
       "3          1337 W. Prince Rd\\n\\t\\t\\tTucson, AZ 85705   \n",
       "4  1457 N. Eliseo C Felix Jr.\\n\\t\\t\\tWay, Ste. 10...   \n",
       "\n",
       "                          telephone  \\\n",
       "0                      480.821.3288   \n",
       "1                      602.264.2400   \n",
       "2                      520.750.7572   \n",
       "3                      520.696.2023   \n",
       "4  623.925.5455 or Fax 623.925.5879   \n",
       "\n",
       "                                               hours  \n",
       "0  Mon.-Fri. 8:00 a.m.-6:00 p.m. Sat. 9:00 a.m.-4...  \n",
       "1  Mon.-Fri. 8:00 a.m.-6:00 p.m. Sat. 8:30 a.m.-4...  \n",
       "2     Mon.-Fri. 9 a.m.-5 p.m. and Sat. 9 a.m.-3 p.m.  \n",
       "3  Driver License Hours: \\n\\t\\t\\tMon.-Fri. 9 a.m....  \n",
       "4                            Mon.-Fri. 8 a.m.-5 p.m.  "
      ]
     },
     "execution_count": 16,
     "metadata": {},
     "output_type": "execute_result"
    }
   ],
   "source": [
    "df.head()"
   ]
  },
  {
   "cell_type": "code",
   "execution_count": 13,
   "id": "dec2896b-a285-4326-a7a2-597f40e8ab05",
   "metadata": {},
   "outputs": [],
   "source": [
    "df= pd.DataFrame(data)\n",
    "df.columns = ['link', 'company', 'address', 'telephone', 'hours']\n",
    "df.to_csv(\"driverslicenselocations.csv\", index=False)"
   ]
  },
  {
   "cell_type": "code",
   "execution_count": 14,
   "id": "e894843f-d82d-4622-a0c3-b39f5ec39164",
   "metadata": {},
   "outputs": [],
   "source": [
    "df.to_csv(\"driverslicenselocations.csv\", index=False)"
   ]
  },
  {
   "cell_type": "markdown",
   "id": "3c98ef02-d490-44bf-8dbd-7312bb55be7b",
   "metadata": {},
   "source": [
    "Part Four\n",
    "\n",
    "Visit https://www.tnwb.uscourts.gov/Search/Search.aspxLinks to an external site. and search for \"CAR.\" Scrape the results into a CSV, with four columns: the URL to the case, the name of the case, the category (e.g. \"Judge's Opinions), the additional details (terms match/size/pdf URL).\n",
    "\n",
    "Bonuses, if you want to get fancy:\n",
    "\n",
    "Split up the additional details into multiple columns\n",
    "Download all of the PDFs of the cases\n",
    "Tips:\n",
    "\n",
    "There are only 10 results, and so many pages! ...maybe there's a secret way to get them all on one page?\n",
    "Check the class you're using and see if it matches the number of results (it probably doesn't!). Inspect the page to find out why. You have two options: use something like we did in class with item.select(\"h1, h2\") – but slightly different, since we're talking about classes – or have two separate loops.\n",
    ".split is often a convenient way to separate semi-structured text\n",
    "Downloading PDFs in Python probably does not involve wget (unless you really want to)\n",
    "Submit on Gracescope as either multiple notebooks or a single notebook."
   ]
  },
  {
   "cell_type": "code",
   "execution_count": 120,
   "id": "0b72af2d-df4d-4daf-9e05-eb8a5c65e5a7",
   "metadata": {},
   "outputs": [],
   "source": [
    "response = requests.get(\"https://www.tnwb.uscourts.gov/Search/search.aspx?zoom_query=car&zoom_page=1&zoom_per_page=200&zoom_and=1&zoom_sort=0&zoom_xml=0\")\n",
    "doc = BeautifulSoup(response.text)\n",
    "import os"
   ]
  },
  {
   "cell_type": "code",
   "execution_count": 121,
   "id": "1ee1ea62-aa1a-46e5-aef7-3f768d38bbeb",
   "metadata": {},
   "outputs": [],
   "source": [
    "items = doc.select('div.result_block, div.result_altblock')"
   ]
  },
  {
   "cell_type": "code",
   "execution_count": 122,
   "id": "862d685e-85b4-4b87-ab7f-9e3a6c83e56d",
   "metadata": {},
   "outputs": [
    {
     "data": {
      "text/plain": [
       "132"
      ]
     },
     "execution_count": 122,
     "metadata": {},
     "output_type": "execute_result"
    }
   ],
   "source": [
    "len(items)"
   ]
  },
  {
   "cell_type": "code",
   "execution_count": 123,
   "id": "3b992adc-98c9-474c-acaf-1325c091eba5",
   "metadata": {},
   "outputs": [],
   "source": [
    "item.find(class_=\"result_title\").get('href')"
   ]
  },
  {
   "cell_type": "code",
   "execution_count": 124,
   "id": "cebe8620-f5d3-4d84-8cd8-6fbd03824d62",
   "metadata": {},
   "outputs": [
    {
     "name": "stdout",
     "output_type": "stream",
     "text": [
      "None\n"
     ]
    }
   ],
   "source": [
    "print(item.find(class_=\"result_title\").get('href'))"
   ]
  },
  {
   "cell_type": "code",
   "execution_count": 125,
   "id": "5b1dd402-ee22-439a-bcb3-482e574dfa09",
   "metadata": {},
   "outputs": [],
   "source": [
    "rows = []\n",
    "pdf_dir = \"pdfs\"\n",
    "os.makedirs(pdf_dir, exist_ok=True)  "
   ]
  },
  {
   "cell_type": "code",
   "execution_count": 145,
   "id": "96c4fbb6-310c-4a4c-aea4-b3755feab39f",
   "metadata": {},
   "outputs": [],
   "source": [
    "for item in items:\n",
    "    row = {}\n",
    "    row['name'] = item.find(class_=\"result_title\").text\n",
    "    try:\n",
    "         row['url'] = item.find('a').get('href')\n",
    "         if row['url'] and row['url'].endswith('.pdf'):\n",
    "            pdf = requests.get(row['url'])\n",
    "            with open(row['name'].replace(' ', '_') + '.pdf', 'wb') as f:\n",
    "                f.write(pdf.content)\n",
    "    except:\n",
    "        row['url'] = item.get('href', None)\n",
    "    row['category'] = item.find(class_='category').text\n",
    "    row['details'] = item.find(class_='infoline').text\n",
    "    rows.append(row)"
   ]
  },
  {
   "cell_type": "code",
   "execution_count": 146,
   "id": "351d68a6-6433-4f28-90df-11775c4ba53c",
   "metadata": {},
   "outputs": [],
   "source": [
    "df = pd.json_normalize(rows)\n",
    "df.head()\n",
    "df.to_csv(\"CARcourtresults.csv\", index=False)"
   ]
  },
  {
   "cell_type": "code",
   "execution_count": 147,
   "id": "09d0e605-5cbe-4add-97a7-56437e6323d4",
   "metadata": {},
   "outputs": [],
   "source": [
    "df_split = df['details'].str.split(expand=True)"
   ]
  },
  {
   "cell_type": "code",
   "execution_count": 148,
   "id": "f0a34393-866e-4c09-bd41-44c18b3ce3c5",
   "metadata": {},
   "outputs": [
    {
     "data": {
      "text/html": [
       "<div>\n",
       "<style scoped>\n",
       "    .dataframe tbody tr th:only-of-type {\n",
       "        vertical-align: middle;\n",
       "    }\n",
       "\n",
       "    .dataframe tbody tr th {\n",
       "        vertical-align: top;\n",
       "    }\n",
       "\n",
       "    .dataframe thead th {\n",
       "        text-align: right;\n",
       "    }\n",
       "</style>\n",
       "<table border=\"1\" class=\"dataframe\">\n",
       "  <thead>\n",
       "    <tr style=\"text-align: right;\">\n",
       "      <th></th>\n",
       "      <th>name</th>\n",
       "      <th>url</th>\n",
       "      <th>category</th>\n",
       "      <th>details</th>\n",
       "    </tr>\n",
       "  </thead>\n",
       "  <tbody>\n",
       "    <tr>\n",
       "      <th>0</th>\n",
       "      <td>1. JDL: 04-24318 Jacquelline D. Black [Judges'...</td>\n",
       "      <td>https://www.tnwb.uscourts.gov/Opinions/jdl/pdf...</td>\n",
       "      <td>[Judges' Opinions]</td>\n",
       "      <td>Terms matched:  1  -  102k  -  URL: https://ww...</td>\n",
       "    </tr>\n",
       "    <tr>\n",
       "      <th>1</th>\n",
       "      <td>2. WHB: 95-26401 Mary Lucy Cooper [Judges' Opi...</td>\n",
       "      <td>https://www.tnwb.uscourts.gov/Opinions/whb/pdf...</td>\n",
       "      <td>[Judges' Opinions]</td>\n",
       "      <td>Terms matched:  1  -  27k  -  URL: https://www...</td>\n",
       "    </tr>\n",
       "    <tr>\n",
       "      <th>2</th>\n",
       "      <td>3. GHB: 97-12368 Billy G. Woffard [Judges' Opi...</td>\n",
       "      <td>https://www.tnwb.uscourts.gov/Opinions/ghb/pdf...</td>\n",
       "      <td>[Judges' Opinions]</td>\n",
       "      <td>Terms matched:  1  -  71k  -  URL: https://www...</td>\n",
       "    </tr>\n",
       "    <tr>\n",
       "      <th>3</th>\n",
       "      <td>4. JDL: 97-30580 Mary Chrlis Hurst [Judges' Op...</td>\n",
       "      <td>https://www.tnwb.uscourts.gov/Opinions/jdl/pdf...</td>\n",
       "      <td>[Judges' Opinions]</td>\n",
       "      <td>Terms matched:  1  -  32k  -  URL: https://www...</td>\n",
       "    </tr>\n",
       "    <tr>\n",
       "      <th>4</th>\n",
       "      <td>5. MRH: 20-20967 Jacob Braxton Herring 20-0009...</td>\n",
       "      <td>https://www.tnwb.uscourts.gov/Opinions/mrh/pdf...</td>\n",
       "      <td>[Judges' Opinions]</td>\n",
       "      <td>Terms matched:  1  -  303k  -  URL: https://ww...</td>\n",
       "    </tr>\n",
       "    <tr>\n",
       "      <th>5</th>\n",
       "      <td>6. GHB: 95-11365 Melissa L. Bryan [Judges' Opi...</td>\n",
       "      <td>https://www.tnwb.uscourts.gov/Opinions/ghb/pdf...</td>\n",
       "      <td>[Judges' Opinions]</td>\n",
       "      <td>Terms matched:  1  -  52k  -  URL: https://www...</td>\n",
       "    </tr>\n",
       "    <tr>\n",
       "      <th>6</th>\n",
       "      <td>7. JDL: 09-20339 Diane M. Miller [Judges' Opin...</td>\n",
       "      <td>https://www.tnwb.uscourts.gov/Opinions/jdl/pdf...</td>\n",
       "      <td>[Judges' Opinions]</td>\n",
       "      <td>Terms matched:  1  -  92k  -  URL: https://www...</td>\n",
       "    </tr>\n",
       "    <tr>\n",
       "      <th>7</th>\n",
       "      <td>8. GHB: 00-12340 Wanda K. Autry [Judges' Opini...</td>\n",
       "      <td>https://www.tnwb.uscourts.gov/Opinions/ghb/pdf...</td>\n",
       "      <td>[Judges' Opinions]</td>\n",
       "      <td>Terms matched:  1  -  297k  -  URL: https://ww...</td>\n",
       "    </tr>\n",
       "    <tr>\n",
       "      <th>8</th>\n",
       "      <td>9. GHB: 02-31651 Neil Bond Stewart, Jr. and Ti...</td>\n",
       "      <td>https://www.tnwb.uscourts.gov/Opinions/ghb/pdf...</td>\n",
       "      <td>[Judges' Opinions]</td>\n",
       "      <td>Terms matched:  1  -  291k  -  URL: https://ww...</td>\n",
       "    </tr>\n",
       "    <tr>\n",
       "      <th>9</th>\n",
       "      <td>10. GHB: 96-12039 Randy and Janice Willson [Ju...</td>\n",
       "      <td>https://www.tnwb.uscourts.gov/Opinions/ghb/pdf...</td>\n",
       "      <td>[Judges' Opinions]</td>\n",
       "      <td>Terms matched:  1  -  201k  -  URL: https://ww...</td>\n",
       "    </tr>\n",
       "  </tbody>\n",
       "</table>\n",
       "</div>"
      ],
      "text/plain": [
       "                                                name  \\\n",
       "0  1. JDL: 04-24318 Jacquelline D. Black [Judges'...   \n",
       "1  2. WHB: 95-26401 Mary Lucy Cooper [Judges' Opi...   \n",
       "2  3. GHB: 97-12368 Billy G. Woffard [Judges' Opi...   \n",
       "3  4. JDL: 97-30580 Mary Chrlis Hurst [Judges' Op...   \n",
       "4  5. MRH: 20-20967 Jacob Braxton Herring 20-0009...   \n",
       "5  6. GHB: 95-11365 Melissa L. Bryan [Judges' Opi...   \n",
       "6  7. JDL: 09-20339 Diane M. Miller [Judges' Opin...   \n",
       "7  8. GHB: 00-12340 Wanda K. Autry [Judges' Opini...   \n",
       "8  9. GHB: 02-31651 Neil Bond Stewart, Jr. and Ti...   \n",
       "9  10. GHB: 96-12039 Randy and Janice Willson [Ju...   \n",
       "\n",
       "                                                 url             category  \\\n",
       "0  https://www.tnwb.uscourts.gov/Opinions/jdl/pdf...   [Judges' Opinions]   \n",
       "1  https://www.tnwb.uscourts.gov/Opinions/whb/pdf...   [Judges' Opinions]   \n",
       "2  https://www.tnwb.uscourts.gov/Opinions/ghb/pdf...   [Judges' Opinions]   \n",
       "3  https://www.tnwb.uscourts.gov/Opinions/jdl/pdf...   [Judges' Opinions]   \n",
       "4  https://www.tnwb.uscourts.gov/Opinions/mrh/pdf...   [Judges' Opinions]   \n",
       "5  https://www.tnwb.uscourts.gov/Opinions/ghb/pdf...   [Judges' Opinions]   \n",
       "6  https://www.tnwb.uscourts.gov/Opinions/jdl/pdf...   [Judges' Opinions]   \n",
       "7  https://www.tnwb.uscourts.gov/Opinions/ghb/pdf...   [Judges' Opinions]   \n",
       "8  https://www.tnwb.uscourts.gov/Opinions/ghb/pdf...   [Judges' Opinions]   \n",
       "9  https://www.tnwb.uscourts.gov/Opinions/ghb/pdf...   [Judges' Opinions]   \n",
       "\n",
       "                                             details  \n",
       "0  Terms matched:  1  -  102k  -  URL: https://ww...  \n",
       "1  Terms matched:  1  -  27k  -  URL: https://www...  \n",
       "2  Terms matched:  1  -  71k  -  URL: https://www...  \n",
       "3  Terms matched:  1  -  32k  -  URL: https://www...  \n",
       "4  Terms matched:  1  -  303k  -  URL: https://ww...  \n",
       "5  Terms matched:  1  -  52k  -  URL: https://www...  \n",
       "6  Terms matched:  1  -  92k  -  URL: https://www...  \n",
       "7  Terms matched:  1  -  297k  -  URL: https://ww...  \n",
       "8  Terms matched:  1  -  291k  -  URL: https://ww...  \n",
       "9  Terms matched:  1  -  201k  -  URL: https://ww...  "
      ]
     },
     "execution_count": 148,
     "metadata": {},
     "output_type": "execute_result"
    }
   ],
   "source": [
    "df.head(10)"
   ]
  },
  {
   "cell_type": "code",
   "execution_count": null,
   "id": "e6443ce2-4f4c-4c28-b318-0619ee578f53",
   "metadata": {},
   "outputs": [],
   "source": []
  },
  {
   "cell_type": "code",
   "execution_count": null,
   "id": "d6e5803e-a384-44f3-98b8-fda51bbede9a",
   "metadata": {},
   "outputs": [],
   "source": []
  }
 ],
 "metadata": {
  "kernelspec": {
   "display_name": "Python 3 (ipykernel)",
   "language": "python",
   "name": "python3"
  },
  "language_info": {
   "codemirror_mode": {
    "name": "ipython",
    "version": 3
   },
   "file_extension": ".py",
   "mimetype": "text/x-python",
   "name": "python",
   "nbconvert_exporter": "python",
   "pygments_lexer": "ipython3",
   "version": "3.11.8"
  }
 },
 "nbformat": 4,
 "nbformat_minor": 5
}
